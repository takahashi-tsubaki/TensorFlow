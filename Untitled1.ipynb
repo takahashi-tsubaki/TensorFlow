{
  "nbformat": 4,
  "nbformat_minor": 0,
  "metadata": {
    "colab": {
      "name": "Untitled1.ipynb",
      "provenance": [],
      "collapsed_sections": [],
      "authorship_tag": "ABX9TyOYw+3COU4JTqC4DEdTtMNQ",
      "include_colab_link": true
    },
    "kernelspec": {
      "name": "python3",
      "display_name": "Python 3"
    },
    "language_info": {
      "name": "python"
    }
  },
  "cells": [
    {
      "cell_type": "markdown",
      "metadata": {
        "id": "view-in-github",
        "colab_type": "text"
      },
      "source": [
        "<a href=\"https://colab.research.google.com/github/takahashi-tsubaki/TensorFlow/blob/friend_Recommend/Untitled1.ipynb\" target=\"_parent\"><img src=\"https://colab.research.google.com/assets/colab-badge.svg\" alt=\"Open In Colab\"/></a>"
      ]
    },
    {
      "cell_type": "code",
      "execution_count": 1,
      "metadata": {
        "id": "m62-6xUIksdg"
      },
      "outputs": [],
      "source": [
        "import functools\n",
        "\n",
        "import numpy as np\n",
        "import tensorflow as tf\n"
      ]
    },
    {
      "cell_type": "code",
      "source": [
        "TRAIN_DATA_URL = \"http://www.mrjyuryoku.com/model-Data.csv\"\n",
        "TEST_DATA_URL = \"http://www.mrjyuryoku.com/test-Data.csv\"\n",
        "\n",
        "train_file_path = tf.keras.utils.get_file(\"model-Data.csv\", TRAIN_DATA_URL)\n",
        "test_file_path = tf.keras.utils.get_file(\"test-Data.csv\", TEST_DATA_URL)"
      ],
      "metadata": {
        "id": "RNb27eFDkwZE",
        "colab": {
          "base_uri": "https://localhost:8080/"
        },
        "outputId": "58eda235-ea1a-46b2-dcab-bad1ec8500b5"
      },
      "execution_count": 2,
      "outputs": [
        {
          "output_type": "stream",
          "name": "stdout",
          "text": [
            "Downloading data from http://www.mrjyuryoku.com/model-Data.csv\n",
            "16384/635 [======================================================================================================================================================================================================================================================================================================================================================================================================================================================================================================================================================================================================================================================================================================================================================================================================] - 0s 0us/step\n",
            "Downloading data from http://www.mrjyuryoku.com/test-Data.csv\n",
            "16384/138 [=========================================================================================================================================================================================================================================================================================================================================================================================================================================================================================================================================================================================================================================================================================================================================================================================================================================================================================================================================================================================================================================================================================================================================================================================================================================================================================================================================================================================================================================================================================================================================================================================================================================================================================================================================================================================================================================================================================================================================================================================================================================================================================================================================================================================================================================================================================================================================================================================================================================================================================================================================================================================================================================================================================================================================================================================================================================================================================================================================================================================================================================================================================================================================================================================================================================================================================================================================================================================================================================================================================================================================================================================================================================================================================================] - 0s 0us/step\n"
          ]
        }
      ]
    },
    {
      "cell_type": "code",
      "source": [
        "# numpy の値を読みやすくする\n",
        "np.set_printoptions(precision=3, suppress=True)"
      ],
      "metadata": {
        "id": "9oiV4WmhmgNf"
      },
      "execution_count": 3,
      "outputs": []
    },
    {
      "cell_type": "markdown",
      "source": [
        "データのロード\n",
        "それではいつものように、扱っている CSV ファイルの先頭を見てみましょう。"
      ],
      "metadata": {
        "id": "mPgbb-a_1JPi"
      }
    },
    {
      "cell_type": "code",
      "source": [
        "!head {train_file_path}"
      ],
      "metadata": {
        "colab": {
          "base_uri": "https://localhost:8080/"
        },
        "id": "_prGrhZWmhFb",
        "outputId": "2b94fec8-d8a8-46d1-a4cd-a2f49a203bcc"
      },
      "execution_count": 4,
      "outputs": [
        {
          "output_type": "stream",
          "name": "stdout",
          "text": [
            "DataID,CategoryID,Category\r\n",
            "0,0,cube\r\n",
            "1,1,sphere\r\n",
            "2,2,capsule\r\n",
            "3,0,cube\r\n",
            "4,0,cube\r\n",
            "5,1,sphere\r\n",
            "6,2,capsule\r\n",
            "7,0,cube\r\n",
            "8,0,cube\r\n"
          ]
        }
      ]
    },
    {
      "cell_type": "markdown",
      "source": [
        "pandasでデータを読み込んでから Numpy の array を TensorFlow に渡すというのは可能です。もし、大規模なデータに対応するためにスケールアップしたり、データの読み込み処理を TensorFlow や tf.data に統合されたものにしたい場合、tf.data.experimental.make_csv_dataset 関数が利用できます。"
      ],
      "metadata": {
        "id": "Y7ZmRclY1Np5"
      }
    },
    {
      "cell_type": "code",
      "source": [
        "LABELS = [0, 1, 2]\n",
        "LABEL_COLUMN =  'CategoryID'"
      ],
      "metadata": {
        "id": "9ljG0tvffK20"
      },
      "execution_count": 5,
      "outputs": []
    },
    {
      "cell_type": "markdown",
      "source": [
        "コンストラクタの引数の値が揃ったので、ファイルから CSV データを読み込みデータセットを作る。\n",
        "\n",
        "（完全なドキュメントは、tf.data.experimental.make_csv_dataset を参照してください）"
      ],
      "metadata": {
        "id": "y4jM4y7z1Foz"
      }
    },
    {
      "cell_type": "code",
      "source": [
        "def get_dataset(file_path, **kwargs):\n",
        "  dataset = tf.data.experimental.make_csv_dataset(\n",
        "      file_path,\n",
        "      batch_size=5, # Artificially small to make examples easier to show.\n",
        "      label_name=LABEL_COLUMN,\n",
        "      na_value=\"?\",\n",
        "      num_epochs=1,\n",
        "      ignore_errors=True, \n",
        "      **kwargs)\n",
        "  return dataset\n",
        "\n",
        "raw_train_data = get_dataset(train_file_path)\n",
        "raw_test_data = get_dataset(test_file_path)"
      ],
      "metadata": {
        "id": "q5-cgRMufaID"
      },
      "execution_count": 6,
      "outputs": []
    },
    {
      "cell_type": "code",
      "source": [
        "def show_batch(dataset):\n",
        "  for batch, label in dataset.take(1):\n",
        "    for key, value in batch.items():\n",
        "      print(\"{:20s}: {}\".format(key,value.numpy()))"
      ],
      "metadata": {
        "id": "TKsp7F1lfgQe"
      },
      "execution_count": 7,
      "outputs": []
    },
    {
      "cell_type": "markdown",
      "source": [
        "データセットを構成する要素は、(複数のサンプル, 複数のラベル)の形のタプルとして表されるバッチです。サンプル中のデータは（行ベースのテンソルではなく）列ベースのテンソルとして構成され、それぞれはバッチサイズ（このケースでは5個）の要素が含まれます。\n",
        "\n",
        "実際に見てみましょう。"
      ],
      "metadata": {
        "id": "ECPM5dJm1Pyl"
      }
    },
    {
      "cell_type": "code",
      "source": [
        "show_batch(raw_train_data)"
      ],
      "metadata": {
        "colab": {
          "base_uri": "https://localhost:8080/"
        },
        "id": "OpYqDN-T1P6y",
        "outputId": "36565d53-a6af-41a5-c603-df321a1f2153"
      },
      "execution_count": 8,
      "outputs": [
        {
          "output_type": "stream",
          "name": "stdout",
          "text": [
            "DataID              : [ 8 44  4  3 28]\n",
            "Category            : [b'cube' b'cube' b'cube' b'cube' b'sphere']\n"
          ]
        }
      ]
    },
    {
      "cell_type": "markdown",
      "source": [
        "上で見たように、この CSV の列には名前がついています。Dataset のコンストラクターはこれらの列名を自動的に抽出します。一行目に列名が記されていない CSV を扱う場合には、列名のリストを make_csv_dataset 関数の column_names 引数に渡してください。"
      ],
      "metadata": {
        "id": "OOzrj44Q1VSI"
      }
    },
    {
      "cell_type": "code",
      "source": [
        "CSV_COLUMNS = ['DataID','CategoryID', 'Category']\n",
        "\n",
        "temp_dataset = get_dataset(train_file_path, column_names=CSV_COLUMNS)\n",
        "\n",
        "show_batch(temp_dataset)"
      ],
      "metadata": {
        "colab": {
          "base_uri": "https://localhost:8080/"
        },
        "id": "7AqE6R251V_H",
        "outputId": "1390985a-2342-4348-9461-182ad2f6ffba"
      },
      "execution_count": 9,
      "outputs": [
        {
          "output_type": "stream",
          "name": "stdout",
          "text": [
            "DataID              : [37 16 17 34  7]\n",
            "Category            : [b'cube' b'sphere' b'cube' b'capsule' b'cube']\n"
          ]
        }
      ]
    },
    {
      "cell_type": "markdown",
      "source": [
        "このサンプルでは利用できるすべての列を使います。もし、データセットから特定の列を除外したい場合には、利用したい列名のリストを作成し、コンストラクタのオプショナルな引数である select_columns にそのリストを渡してください。"
      ],
      "metadata": {
        "id": "_XIftqJh6PD5"
      }
    },
    {
      "cell_type": "code",
      "source": [
        "SELECT_COLUMNS = ['DataID','CategoryID', 'Category']\n",
        "\n",
        "temp_dataset = get_dataset(train_file_path, select_columns=SELECT_COLUMNS)\n",
        "\n",
        "show_batch(temp_dataset)"
      ],
      "metadata": {
        "colab": {
          "base_uri": "https://localhost:8080/"
        },
        "id": "mlYaKV405-R7",
        "outputId": "8a352bfc-f5e6-48b1-f5e5-0da3bc2fc809"
      },
      "execution_count": 10,
      "outputs": [
        {
          "output_type": "stream",
          "name": "stdout",
          "text": [
            "DataID              : [13  1 41 37  7]\n",
            "Category            : [b'capsule' b'sphere' b'sphere' b'cube' b'cube']\n"
          ]
        }
      ]
    },
    {
      "cell_type": "markdown",
      "source": [
        "# データの前処理"
      ],
      "metadata": {
        "id": "P1yEd5IQFpJx"
      }
    },
    {
      "cell_type": "markdown",
      "source": [
        "\n",
        "\n",
        "CSV ファイルに含まれるデータには様々な型のものがありえます。データをモデルに入力する前に、典型的なケースでは、様々な型を含んだデータを固定長のベクトルに変換する必要があります。\n",
        "\n",
        "TensorFlow には典型的なデータ変換を行う tf.feature_column が組み込まれています。詳細はこのチュートリアルを参照してください。\n",
        "\n",
        "また、任意のツール (たとえば、nltk や sklearn) を使って前処理を行い、前処理した結果を TensorFlow にわたすこともできます。\n",
        "\n",
        "モデルの内部で前処理を行う最大の利点は、モデルをエクスポートしたときにその中に前処理が含まれていることです。この方法を取れば、生データをそのままモデルに入力することができます。"
      ],
      "metadata": {
        "id": "2-uc1-weFuOu"
      }
    },
    {
      "cell_type": "markdown",
      "source": [
        "すでにデータが適切に数値型になっている場合、モデルに渡す前にそのデータをベクトル形式にできます。"
      ],
      "metadata": {
        "id": "9ibFm8kORbVO"
      }
    },
    {
      "cell_type": "code",
      "source": [
        "SELECT_COLUMNS = ['DataID','CategoryID']\n",
        "DEFAULTS = [0,0.0]\n",
        "temp_dataset = get_dataset(train_file_path, \n",
        "                           select_columns=SELECT_COLUMNS,\n",
        "                           column_defaults = DEFAULTS)\n",
        "\n",
        "show_batch(temp_dataset)"
      ],
      "metadata": {
        "colab": {
          "base_uri": "https://localhost:8080/"
        },
        "id": "mSfBbKwD3XLz",
        "outputId": "6ebe37d6-a0b7-4f20-ebee-a485e8bd0592"
      },
      "execution_count": 11,
      "outputs": [
        {
          "output_type": "stream",
          "name": "stdout",
          "text": [
            "DataID              : [31 45 22 29 27]\n"
          ]
        }
      ]
    },
    {
      "cell_type": "code",
      "source": [
        "example_batch, labels_batch = next(iter(temp_dataset)) "
      ],
      "metadata": {
        "id": "Qcnc-WB73mcQ"
      },
      "execution_count": 12,
      "outputs": []
    },
    {
      "cell_type": "markdown",
      "source": [
        "次のサンプルは、数値型の列をベクトルに変換するシンプルな関数の例です。"
      ],
      "metadata": {
        "id": "_yXj9zMm3zfN"
      }
    },
    {
      "cell_type": "markdown",
      "source": [
        ""
      ],
      "metadata": {
        "id": "9OciZri6Kdml"
      }
    },
    {
      "cell_type": "code",
      "source": [
        ""
      ],
      "metadata": {
        "id": "zyFueYbkKeA1"
      },
      "execution_count": null,
      "outputs": []
    },
    {
      "cell_type": "code",
      "source": [
        "def pack(features, label):\n",
        "  return tf.stack(list(features.values()), axis=-1), label"
      ],
      "metadata": {
        "id": "6RQVHGNr3z80"
      },
      "execution_count": 13,
      "outputs": []
    },
    {
      "cell_type": "markdown",
      "source": [
        "この関数をデータセットのそれぞれの要素に適用するする。"
      ],
      "metadata": {
        "id": "1p4oHlZp33XI"
      }
    },
    {
      "cell_type": "code",
      "source": [
        "packed_dataset = temp_dataset.map(pack)\n",
        "\n",
        "for features, labels in packed_dataset.take(1):\n",
        "  print(features.numpy())\n",
        "  print()\n",
        "  print(labels.numpy())"
      ],
      "metadata": {
        "colab": {
          "base_uri": "https://localhost:8080/"
        },
        "id": "faGcseVE34F_",
        "outputId": "edc71836-23b1-4d39-f709-1addc9fdb92a"
      },
      "execution_count": 14,
      "outputs": [
        {
          "output_type": "stream",
          "name": "stdout",
          "text": [
            "[[40]\n",
            " [33]\n",
            " [48]\n",
            " [37]\n",
            " [44]]\n",
            "\n",
            "[2. 1. 1. 0. 0.]\n"
          ]
        }
      ]
    },
    {
      "cell_type": "markdown",
      "source": [
        "様々な型を含んだデータセットを利用する場合、シンプルな数値型のフィールドだけを分離したくなるかもしれません。tf.feature_column はそのような処理を実現できますが、いくらかのオーバーヘッドを発生させるため、それが本当に必要になる場合以外ではできるだけ避けるべきでしょう。様々な型を含んだデータセットに話を戻しましょう。"
      ],
      "metadata": {
        "id": "Huwjj3YU36jp"
      }
    },
    {
      "cell_type": "code",
      "source": [
        "show_batch(raw_train_data)"
      ],
      "metadata": {
        "colab": {
          "base_uri": "https://localhost:8080/"
        },
        "id": "6wkHF6sa37_I",
        "outputId": "e59c8abe-3ef7-432b-9ed7-fe92c88556f2"
      },
      "execution_count": 15,
      "outputs": [
        {
          "output_type": "stream",
          "name": "stdout",
          "text": [
            "DataID              : [47 13 32 44 12]\n",
            "Category            : [b'cube' b'capsule' b'sphere' b'cube' b'cube']\n"
          ]
        }
      ]
    },
    {
      "cell_type": "code",
      "source": [
        "example_batch, labels_batch = next(iter(temp_dataset))"
      ],
      "metadata": {
        "id": "rgvH_xOq39O1"
      },
      "execution_count": 16,
      "outputs": []
    },
    {
      "cell_type": "markdown",
      "source": [
        "数値型の特徴量を選んで、それらをベクトル化して単一の列に変換する。"
      ],
      "metadata": {
        "id": "8GnnRzEAT9Gy"
      }
    },
    {
      "cell_type": "code",
      "source": [
        "class PackNumericFeatures(object):\n",
        "  def __init__(self, names):\n",
        "    self.names = names\n",
        "\n",
        "  def __call__(self, features, labels):\n",
        "    numeric_features = [features.pop(name) for name in self.names]\n",
        "    numeric_features = [tf.cast(feat, tf.float32) for feat in numeric_features]\n",
        "    numeric_features = tf.stack(numeric_features, axis=-1)\n",
        "    features['numeric'] = numeric_features\n",
        "\n",
        "    return features, labels"
      ],
      "metadata": {
        "id": "iflIQ26OT9tp"
      },
      "execution_count": 17,
      "outputs": []
    },
    {
      "cell_type": "code",
      "source": [
        "NUMERIC_FEATURES = ['DataID']\n",
        "\n",
        "packed_train_data = raw_train_data.map(\n",
        "    PackNumericFeatures(NUMERIC_FEATURES))\n",
        "\n",
        "packed_test_data = raw_test_data.map(\n",
        "    PackNumericFeatures(NUMERIC_FEATURES))"
      ],
      "metadata": {
        "id": "l5a1qdoHUAbV"
      },
      "execution_count": 18,
      "outputs": []
    },
    {
      "cell_type": "code",
      "source": [
        "show_batch(packed_train_data)"
      ],
      "metadata": {
        "colab": {
          "base_uri": "https://localhost:8080/"
        },
        "id": "GKy4lw4wUAg0",
        "outputId": "24338ef3-74c5-4d4d-9e91-84b52dac63eb"
      },
      "execution_count": 19,
      "outputs": [
        {
          "output_type": "stream",
          "name": "stdout",
          "text": [
            "Category            : [b'sphere' b'cube' b'capsule' b'sphere' b'sphere']\n",
            "numeric             : [[43.]\n",
            " [14.]\n",
            " [29.]\n",
            " [28.]\n",
            " [10.]]\n"
          ]
        }
      ]
    },
    {
      "cell_type": "code",
      "source": [
        "example_batch, labels_batch = next(iter(packed_train_data))"
      ],
      "metadata": {
        "id": "WCJgCwtMUCiV"
      },
      "execution_count": 20,
      "outputs": []
    },
    {
      "cell_type": "markdown",
      "source": [
        "# データの正規化"
      ],
      "metadata": {
        "id": "uBg_3zcmVGsL"
      }
    },
    {
      "cell_type": "code",
      "source": [
        "import pandas as pd\n",
        "desc = pd.read_csv(train_file_path)[NUMERIC_FEATURES].describe()\n",
        "desc"
      ],
      "metadata": {
        "colab": {
          "base_uri": "https://localhost:8080/",
          "height": 300
        },
        "id": "fZcNok1fVJwU",
        "outputId": "c77c1f91-2f1f-4654-e57a-b753ed687214"
      },
      "execution_count": 21,
      "outputs": [
        {
          "output_type": "execute_result",
          "data": {
            "text/plain": [
              "          DataID\n",
              "count  49.000000\n",
              "mean   24.285714\n",
              "std    14.648663\n",
              "min     0.000000\n",
              "25%    12.000000\n",
              "50%    24.000000\n",
              "75%    37.000000\n",
              "max    49.000000"
            ],
            "text/html": [
              "\n",
              "  <div id=\"df-4901342f-42eb-44df-9f5c-05fed7a930bc\">\n",
              "    <div class=\"colab-df-container\">\n",
              "      <div>\n",
              "<style scoped>\n",
              "    .dataframe tbody tr th:only-of-type {\n",
              "        vertical-align: middle;\n",
              "    }\n",
              "\n",
              "    .dataframe tbody tr th {\n",
              "        vertical-align: top;\n",
              "    }\n",
              "\n",
              "    .dataframe thead th {\n",
              "        text-align: right;\n",
              "    }\n",
              "</style>\n",
              "<table border=\"1\" class=\"dataframe\">\n",
              "  <thead>\n",
              "    <tr style=\"text-align: right;\">\n",
              "      <th></th>\n",
              "      <th>DataID</th>\n",
              "    </tr>\n",
              "  </thead>\n",
              "  <tbody>\n",
              "    <tr>\n",
              "      <th>count</th>\n",
              "      <td>49.000000</td>\n",
              "    </tr>\n",
              "    <tr>\n",
              "      <th>mean</th>\n",
              "      <td>24.285714</td>\n",
              "    </tr>\n",
              "    <tr>\n",
              "      <th>std</th>\n",
              "      <td>14.648663</td>\n",
              "    </tr>\n",
              "    <tr>\n",
              "      <th>min</th>\n",
              "      <td>0.000000</td>\n",
              "    </tr>\n",
              "    <tr>\n",
              "      <th>25%</th>\n",
              "      <td>12.000000</td>\n",
              "    </tr>\n",
              "    <tr>\n",
              "      <th>50%</th>\n",
              "      <td>24.000000</td>\n",
              "    </tr>\n",
              "    <tr>\n",
              "      <th>75%</th>\n",
              "      <td>37.000000</td>\n",
              "    </tr>\n",
              "    <tr>\n",
              "      <th>max</th>\n",
              "      <td>49.000000</td>\n",
              "    </tr>\n",
              "  </tbody>\n",
              "</table>\n",
              "</div>\n",
              "      <button class=\"colab-df-convert\" onclick=\"convertToInteractive('df-4901342f-42eb-44df-9f5c-05fed7a930bc')\"\n",
              "              title=\"Convert this dataframe to an interactive table.\"\n",
              "              style=\"display:none;\">\n",
              "        \n",
              "  <svg xmlns=\"http://www.w3.org/2000/svg\" height=\"24px\"viewBox=\"0 0 24 24\"\n",
              "       width=\"24px\">\n",
              "    <path d=\"M0 0h24v24H0V0z\" fill=\"none\"/>\n",
              "    <path d=\"M18.56 5.44l.94 2.06.94-2.06 2.06-.94-2.06-.94-.94-2.06-.94 2.06-2.06.94zm-11 1L8.5 8.5l.94-2.06 2.06-.94-2.06-.94L8.5 2.5l-.94 2.06-2.06.94zm10 10l.94 2.06.94-2.06 2.06-.94-2.06-.94-.94-2.06-.94 2.06-2.06.94z\"/><path d=\"M17.41 7.96l-1.37-1.37c-.4-.4-.92-.59-1.43-.59-.52 0-1.04.2-1.43.59L10.3 9.45l-7.72 7.72c-.78.78-.78 2.05 0 2.83L4 21.41c.39.39.9.59 1.41.59.51 0 1.02-.2 1.41-.59l7.78-7.78 2.81-2.81c.8-.78.8-2.07 0-2.86zM5.41 20L4 18.59l7.72-7.72 1.47 1.35L5.41 20z\"/>\n",
              "  </svg>\n",
              "      </button>\n",
              "      \n",
              "  <style>\n",
              "    .colab-df-container {\n",
              "      display:flex;\n",
              "      flex-wrap:wrap;\n",
              "      gap: 12px;\n",
              "    }\n",
              "\n",
              "    .colab-df-convert {\n",
              "      background-color: #E8F0FE;\n",
              "      border: none;\n",
              "      border-radius: 50%;\n",
              "      cursor: pointer;\n",
              "      display: none;\n",
              "      fill: #1967D2;\n",
              "      height: 32px;\n",
              "      padding: 0 0 0 0;\n",
              "      width: 32px;\n",
              "    }\n",
              "\n",
              "    .colab-df-convert:hover {\n",
              "      background-color: #E2EBFA;\n",
              "      box-shadow: 0px 1px 2px rgba(60, 64, 67, 0.3), 0px 1px 3px 1px rgba(60, 64, 67, 0.15);\n",
              "      fill: #174EA6;\n",
              "    }\n",
              "\n",
              "    [theme=dark] .colab-df-convert {\n",
              "      background-color: #3B4455;\n",
              "      fill: #D2E3FC;\n",
              "    }\n",
              "\n",
              "    [theme=dark] .colab-df-convert:hover {\n",
              "      background-color: #434B5C;\n",
              "      box-shadow: 0px 1px 3px 1px rgba(0, 0, 0, 0.15);\n",
              "      filter: drop-shadow(0px 1px 2px rgba(0, 0, 0, 0.3));\n",
              "      fill: #FFFFFF;\n",
              "    }\n",
              "  </style>\n",
              "\n",
              "      <script>\n",
              "        const buttonEl =\n",
              "          document.querySelector('#df-4901342f-42eb-44df-9f5c-05fed7a930bc button.colab-df-convert');\n",
              "        buttonEl.style.display =\n",
              "          google.colab.kernel.accessAllowed ? 'block' : 'none';\n",
              "\n",
              "        async function convertToInteractive(key) {\n",
              "          const element = document.querySelector('#df-4901342f-42eb-44df-9f5c-05fed7a930bc');\n",
              "          const dataTable =\n",
              "            await google.colab.kernel.invokeFunction('convertToInteractive',\n",
              "                                                     [key], {});\n",
              "          if (!dataTable) return;\n",
              "\n",
              "          const docLinkHtml = 'Like what you see? Visit the ' +\n",
              "            '<a target=\"_blank\" href=https://colab.research.google.com/notebooks/data_table.ipynb>data table notebook</a>'\n",
              "            + ' to learn more about interactive tables.';\n",
              "          element.innerHTML = '';\n",
              "          dataTable['output_type'] = 'display_data';\n",
              "          await google.colab.output.renderOutput(dataTable, element);\n",
              "          const docLink = document.createElement('div');\n",
              "          docLink.innerHTML = docLinkHtml;\n",
              "          element.appendChild(docLink);\n",
              "        }\n",
              "      </script>\n",
              "    </div>\n",
              "  </div>\n",
              "  "
            ]
          },
          "metadata": {},
          "execution_count": 21
        }
      ]
    },
    {
      "cell_type": "code",
      "source": [
        "MEAN = np.array(desc.T['mean'])\n",
        "STD = np.array(desc.T['std'])"
      ],
      "metadata": {
        "id": "NQmOoeFgVS1K"
      },
      "execution_count": 22,
      "outputs": []
    },
    {
      "cell_type": "code",
      "source": [
        "def normalize_numeric_data(data, mean, std):\n",
        "  # Center the data\n",
        "  return (data-mean)/std"
      ],
      "metadata": {
        "id": "gp3qyQ0MVUOq"
      },
      "execution_count": 23,
      "outputs": []
    },
    {
      "cell_type": "markdown",
      "source": [
        "数値型の列を作成しましょう。tf.feature_columns.numeric_column では normalizer_fn 引数で正則化のための関数を受け取ります。また、渡された関数はそれぞれのバッチに対して実行されます。\n",
        "\n",
        "functools.partial を用いて関数を部分適用し、normalize_numeric_data の引数 MEAN と STD を固定しておきましょう。"
      ],
      "metadata": {
        "id": "c-wnqOTSVZo7"
      }
    },
    {
      "cell_type": "code",
      "source": [
        "# See what you just created.\n",
        "normalizer = functools.partial(normalize_numeric_data, mean=MEAN, std=STD)\n",
        "\n",
        "numeric_column = tf.feature_column.numeric_column('numeric', normalizer_fn=normalizer, shape=[len(NUMERIC_FEATURES)])\n",
        "numeric_columns = [numeric_column]\n",
        "numeric_column"
      ],
      "metadata": {
        "colab": {
          "base_uri": "https://localhost:8080/"
        },
        "id": "jG-SKYVBVX64",
        "outputId": "ed1cb9c8-684b-4deb-bf50-921098e3af15"
      },
      "execution_count": 24,
      "outputs": [
        {
          "output_type": "execute_result",
          "data": {
            "text/plain": [
              "NumericColumn(key='numeric', shape=(1,), default_value=None, dtype=tf.float32, normalizer_fn=functools.partial(<function normalize_numeric_data at 0x7fb1cf55ad40>, mean=array([24.286]), std=array([14.649])))"
            ]
          },
          "metadata": {},
          "execution_count": 24
        }
      ]
    },
    {
      "cell_type": "markdown",
      "source": [
        "モデルの訓練時には、数値データのブロックを選び出して利用できるように、作成した特徴量の列を入力に含めましょう。"
      ],
      "metadata": {
        "id": "a5OoMHDIVa_g"
      }
    },
    {
      "cell_type": "code",
      "source": [
        "example_batch['numeric']"
      ],
      "metadata": {
        "colab": {
          "base_uri": "https://localhost:8080/"
        },
        "id": "QI0i7vJ8VeQ0",
        "outputId": "0ce0f7a6-0230-4fd4-ed3d-03d9149aeb96"
      },
      "execution_count": 25,
      "outputs": [
        {
          "output_type": "execute_result",
          "data": {
            "text/plain": [
              "<tf.Tensor: shape=(5, 1), dtype=float32, numpy=\n",
              "array([[11.],\n",
              "       [41.],\n",
              "       [33.],\n",
              "       [24.],\n",
              "       [ 6.]], dtype=float32)>"
            ]
          },
          "metadata": {},
          "execution_count": 25
        }
      ]
    },
    {
      "cell_type": "code",
      "source": [
        "numeric_layer = tf.keras.layers.DenseFeatures(numeric_columns)\n",
        "numeric_layer(example_batch).numpy()"
      ],
      "metadata": {
        "colab": {
          "base_uri": "https://localhost:8080/"
        },
        "id": "LoC3qDaZVgKy",
        "outputId": "be1e6cf9-514c-4aee-d1b4-71f24321f1d1"
      },
      "execution_count": 26,
      "outputs": [
        {
          "output_type": "execute_result",
          "data": {
            "text/plain": [
              "array([[-0.907],\n",
              "       [ 1.141],\n",
              "       [ 0.595],\n",
              "       [-0.02 ],\n",
              "       [-1.248]], dtype=float32)"
            ]
          },
          "metadata": {},
          "execution_count": 26
        }
      ]
    },
    {
      "cell_type": "markdown",
      "source": [
        "カテゴリデータ\n",
        "この CSV データ中のいくつかの列はカテゴリ列です。つまり、その中身は、限られた選択肢の中のひとつである必要があります。\n",
        "\n",
        "tf.feature_column API を用いて、それぞれのカテゴリ列のためのコレクションを tf.feature_column.indicator_column で生成しましょう。"
      ],
      "metadata": {
        "id": "pJowt1eFVmYs"
      }
    },
    {
      "cell_type": "code",
      "source": [
        "CATEGORIES = {\n",
        "    'Category': ['cube', 'sphere','capsule'],\n",
        "   \n",
        "}"
      ],
      "metadata": {
        "id": "AqPjefiOVnir"
      },
      "execution_count": 27,
      "outputs": []
    },
    {
      "cell_type": "code",
      "source": [
        "categorical_columns = []\n",
        "for feature, vocab in CATEGORIES.items():\n",
        "  cat_col = tf.feature_column.categorical_column_with_vocabulary_list(\n",
        "        key=feature, vocabulary_list=vocab)\n",
        "  categorical_columns.append(tf.feature_column.indicator_column(cat_col))"
      ],
      "metadata": {
        "id": "UD-X29l9V_ki"
      },
      "execution_count": 28,
      "outputs": []
    },
    {
      "cell_type": "code",
      "source": [
        "# See what you just created.\n",
        "categorical_columns"
      ],
      "metadata": {
        "colab": {
          "base_uri": "https://localhost:8080/"
        },
        "id": "gzPvxNzdWCTp",
        "outputId": "90f509fb-cd21-44ea-fb00-a1d52edd7d49"
      },
      "execution_count": 29,
      "outputs": [
        {
          "output_type": "execute_result",
          "data": {
            "text/plain": [
              "[IndicatorColumn(categorical_column=VocabularyListCategoricalColumn(key='Category', vocabulary_list=('cube', 'sphere', 'capsule'), dtype=tf.string, default_value=-1, num_oov_buckets=0))]"
            ]
          },
          "metadata": {},
          "execution_count": 29
        }
      ]
    },
    {
      "cell_type": "code",
      "source": [
        "categorical_layer = tf.keras.layers.DenseFeatures(categorical_columns)\n",
        "print(categorical_layer(example_batch).numpy()[0])"
      ],
      "metadata": {
        "colab": {
          "base_uri": "https://localhost:8080/"
        },
        "id": "WLgiXBN_WCx1",
        "outputId": "8da574c0-4d7b-4d3c-c00b-3887a4ac5cee"
      },
      "execution_count": 30,
      "outputs": [
        {
          "output_type": "stream",
          "name": "stdout",
          "text": [
            "[0. 0. 1.]\n"
          ]
        }
      ]
    },
    {
      "cell_type": "markdown",
      "source": [
        "モデルを構築する際、これは入力レイヤーで行われるデータ処理の一部です。"
      ],
      "metadata": {
        "id": "1ZWp-w76Wb83"
      }
    },
    {
      "cell_type": "markdown",
      "source": [
        "# 一体化した前処理レイヤー"
      ],
      "metadata": {
        "id": "eUiAG8osXAyf"
      }
    },
    {
      "cell_type": "markdown",
      "source": [
        "2つの特徴量列のコレクションを結合し、tf.keras.layers.DenseFeatures に入力して、両方のデータ型を読み込んで前処理する入力レイヤーを作成しましょう。"
      ],
      "metadata": {
        "id": "V8KOwZGTWh4e"
      }
    },
    {
      "cell_type": "code",
      "source": [
        "preprocessing_layer = tf.keras.layers.DenseFeatures(categorical_columns+numeric_columns)"
      ],
      "metadata": {
        "id": "VWDDeLKGWsHY"
      },
      "execution_count": 31,
      "outputs": []
    },
    {
      "cell_type": "code",
      "source": [
        "print(preprocessing_layer(example_batch).numpy()[0])"
      ],
      "metadata": {
        "colab": {
          "base_uri": "https://localhost:8080/"
        },
        "id": "WKsEfrjzWtRD",
        "outputId": "5abefcdf-d2d2-4137-b0fc-cfbb3be027b9"
      },
      "execution_count": 32,
      "outputs": [
        {
          "output_type": "stream",
          "name": "stdout",
          "text": [
            "[ 0.     0.     1.    -0.907]\n"
          ]
        }
      ]
    },
    {
      "cell_type": "markdown",
      "source": [
        "# モデルの構築"
      ],
      "metadata": {
        "id": "yc7MjxeQW5St"
      }
    },
    {
      "cell_type": "markdown",
      "source": [
        "preprocessing_layer から始まる tf.keras.Sequential を構築するする。"
      ],
      "metadata": {
        "id": "ynyhB7fgXIWV"
      }
    },
    {
      "cell_type": "code",
      "source": [
        "model = tf.keras.Sequential([\n",
        "  preprocessing_layer,\n",
        "  tf.keras.layers.Dense(128, activation='relu'),\n",
        "  tf.keras.layers.Dense(128, activation='relu'),\n",
        "  tf.keras.layers.Dense(1, activation='sigmoid'),\n",
        "])\n",
        "\n",
        "model.compile(\n",
        "    loss='binary_crossentropy',\n",
        "    optimizer='adam',\n",
        "    metrics=['accuracy'])"
      ],
      "metadata": {
        "id": "ytJDjlRQXDhd"
      },
      "execution_count": 33,
      "outputs": []
    },
    {
      "cell_type": "markdown",
      "source": [
        "# 訓練、評価、そして予測"
      ],
      "metadata": {
        "id": "E923fXG-XLZL"
      }
    },
    {
      "cell_type": "markdown",
      "source": [
        "これでモデルをインスタンス化し、訓練することができるる。"
      ],
      "metadata": {
        "id": "pAGvdTjUXNDy"
      }
    },
    {
      "cell_type": "code",
      "source": [
        "train_data = packed_train_data.shuffle(500)\n",
        "test_data = packed_test_data"
      ],
      "metadata": {
        "id": "0si65gJaXMWd"
      },
      "execution_count": 34,
      "outputs": []
    },
    {
      "cell_type": "code",
      "source": [
        "model.fit(train_data, epochs=5)"
      ],
      "metadata": {
        "colab": {
          "base_uri": "https://localhost:8080/"
        },
        "id": "I7weePQ5XQFb",
        "outputId": "60b3ce6f-de9f-4079-a321-1943e0d6244f"
      },
      "execution_count": 35,
      "outputs": [
        {
          "output_type": "stream",
          "name": "stdout",
          "text": [
            "Epoch 1/5\n",
            "WARNING:tensorflow:Layers in a Sequential model should only have a single input tensor. Received: inputs=OrderedDict([('Category', <tf.Tensor 'IteratorGetNext:0' shape=(None,) dtype=string>), ('numeric', <tf.Tensor 'IteratorGetNext:1' shape=(None, 1) dtype=float32>)]). Consider rewriting this model with the Functional API.\n",
            "WARNING:tensorflow:Layers in a Sequential model should only have a single input tensor. Received: inputs=OrderedDict([('Category', <tf.Tensor 'IteratorGetNext:0' shape=(None,) dtype=string>), ('numeric', <tf.Tensor 'IteratorGetNext:1' shape=(None, 1) dtype=float32>)]). Consider rewriting this model with the Functional API.\n",
            "10/10 [==============================] - 3s 134ms/step - loss: 0.5724 - accuracy: 0.3673\n",
            "Epoch 2/5\n",
            "10/10 [==============================] - 0s 5ms/step - loss: 0.2353 - accuracy: 0.3265\n",
            "Epoch 3/5\n",
            "10/10 [==============================] - 0s 4ms/step - loss: -0.1331 - accuracy: 0.4694\n",
            "Epoch 4/5\n",
            "10/10 [==============================] - 0s 9ms/step - loss: -0.5558 - accuracy: 0.5102\n",
            "Epoch 5/5\n",
            "10/10 [==============================] - 0s 4ms/step - loss: -1.0971 - accuracy: 0.6327\n"
          ]
        },
        {
          "output_type": "execute_result",
          "data": {
            "text/plain": [
              "<keras.callbacks.History at 0x7fb1cedeedd0>"
            ]
          },
          "metadata": {},
          "execution_count": 35
        }
      ]
    },
    {
      "cell_type": "code",
      "source": [
        "test_loss, test_accuracy = model.evaluate(test_data)\n",
        "\n",
        "print('\\n\\nTest Loss {}, Test Accuracy {}'.format(test_loss, test_accuracy))"
      ],
      "metadata": {
        "colab": {
          "base_uri": "https://localhost:8080/"
        },
        "id": "Az3uICWhXRvj",
        "outputId": "174a71f2-9616-4af3-8cf8-c6b100b4c447"
      },
      "execution_count": 36,
      "outputs": [
        {
          "output_type": "stream",
          "name": "stdout",
          "text": [
            "WARNING:tensorflow:Layers in a Sequential model should only have a single input tensor. Received: inputs=OrderedDict([('Category', <tf.Tensor 'IteratorGetNext:0' shape=(None,) dtype=string>), ('numeric', <tf.Tensor 'IteratorGetNext:1' shape=(None, 1) dtype=float32>)]). Consider rewriting this model with the Functional API.\n",
            "2/2 [==============================] - 1s 30ms/step - loss: -0.5800 - accuracy: 0.8000\n",
            "\n",
            "\n",
            "Test Loss -0.5799671411514282, Test Accuracy 0.800000011920929\n"
          ]
        }
      ]
    },
    {
      "cell_type": "code",
      "source": [
        "predictions = model.predict(test_data)\n",
        "\n",
        "# 結果のいくつかを表示\n",
        "for prediction, cube in zip(predictions[:10], list(test_data)[0][1][:10]):\n",
        "  print(\"Predicted Cube: {:.4%}\".format(prediction[0]),\n",
        "        \" | Actual outcome: \",\n",
        "        (\"CUBE\" if bool(cube) else \"Capsule\"))"
      ],
      "metadata": {
        "colab": {
          "base_uri": "https://localhost:8080/"
        },
        "id": "3FjKmkAIXS7-",
        "outputId": "414b1f1c-a3f3-4e37-c2cf-5182b69ecc4c"
      },
      "execution_count": 37,
      "outputs": [
        {
          "output_type": "stream",
          "name": "stdout",
          "text": [
            "WARNING:tensorflow:Layers in a Sequential model should only have a single input tensor. Received: inputs=OrderedDict([('Category', <tf.Tensor 'IteratorGetNext:0' shape=(None,) dtype=string>), ('numeric', <tf.Tensor 'IteratorGetNext:1' shape=(None, 1) dtype=float32>)]). Consider rewriting this model with the Functional API.\n",
            "Predicted Cube: 44.4454%  | Actual outcome:  CUBE\n",
            "Predicted Cube: 33.6380%  | Actual outcome:  CUBE\n",
            "Predicted Cube: 98.4259%  | Actual outcome:  Capsule\n",
            "Predicted Cube: 39.5927%  | Actual outcome:  Capsule\n",
            "Predicted Cube: 98.5736%  | Actual outcome:  Capsule\n"
          ]
        }
      ]
    }
  ]
}